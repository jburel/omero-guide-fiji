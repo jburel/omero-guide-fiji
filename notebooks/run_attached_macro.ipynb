{
 "cells": [
  {
   "cell_type": "markdown",
   "metadata": {},
   "source": [
    "# Run macro file \n",
    "\n",
    "This notebook shows how load an ImageJ macrofile linked to an image and analyze the image the macro.\n",
    "This notebook assumes that a macro file has been linked to the dataset. If more than one macro is linked, the user can select the macro to apply.\n",
    "\n",
    "Fiji has been installed with few other plugins including the omero_ij plugin to allow to connect to an OMERO server."
   ]
  },
  {
   "cell_type": "markdown",
   "metadata": {},
   "source": [
    "## Description\n",
    "\n",
    "The following section shows\n",
    " * how to load a macro file linked to a dataset\n",
    " * how to analyze all the images in the dataset using the macro\n",
    " * how to save Region of Interests (ROIs) back to the OMERO server\n",
    " * how to save results as attachments\n",
    " * how to import an image\n"
   ]
  },
  {
   "cell_type": "markdown",
   "metadata": {},
   "source": [
    "## Setup: start the [desktop](../../desktop) if it is not already up\n",
    "The link should open in a different window. If you see an error message try refreshing the window."
   ]
  },
  {
   "cell_type": "markdown",
   "metadata": {},
   "source": [
    "## Setup: Add plugins to Classpath\n",
    "First we had Fiji and the plugins to the classpath."
   ]
  },
  {
   "cell_type": "code",
   "execution_count": 1,
   "metadata": {},
   "outputs": [
    {
     "data": {
      "application/vnd.jupyter.widget-view+json": {
       "model_id": "05068acd-cac5-4df2-86ef-33e1c905e3b9",
       "version_major": 2,
       "version_minor": 0
      },
      "method": "display_data"
     },
     "metadata": {},
     "output_type": "display_data"
    },
    {
     "data": {
      "application/vnd.jupyter.widget-view+json": {
       "model_id": "15cab0d2-b899-4f6d-96ab-f300622ea3fb",
       "version_major": 2,
       "version_minor": 0
      },
      "method": "display_data"
     },
     "metadata": {},
     "output_type": "display_data"
    }
   ],
   "source": [
    "%classpath add jar /srv/conda/vnc/Fiji.app/jars/*\n",
    "%classpath add jar /srv/conda/vnc/Fiji.app/plugins/*"
   ]
  },
  {
   "cell_type": "markdown",
   "metadata": {},
   "source": [
    "## Enter credentials. Do not re-run this cell."
   ]
  },
  {
   "cell_type": "code",
   "execution_count": 2,
   "metadata": {},
   "outputs": [
    {
     "data": {
      "application/vnd.jupyter.widget-view+json": {
       "model_id": "dbc4cc29-ecc4-4373-9634-f6383a31be88",
       "version_major": 2,
       "version_minor": 0
      },
      "method": "display_data"
     },
     "metadata": {},
     "output_type": "display_data"
    }
   ],
   "source": [
    "g = new EasyForm(\"Enter credentials and continue to the next cell. Do not re-run this cell.\")\n",
    "g.addTextField(\"Server\").onInit({g['Server'] = \"wss://workshop.openmicroscopy.org/omero-ws\"})\n",
    "g.addTextField(\"UserName\")\n",
    "g.addPasswordField(\"Password\")\n",
    "g"
   ]
  },
  {
   "cell_type": "markdown",
   "metadata": {},
   "source": [
    "## Connect to OMERO"
   ]
  },
  {
   "cell_type": "code",
   "execution_count": 3,
   "metadata": {},
   "outputs": [
    {
     "name": "stdout",
     "output_type": "stream",
     "text": [
      "connecting...\n",
      "connected...\n"
     ]
    },
    {
     "data": {
      "text/plain": [
       "null"
      ]
     },
     "execution_count": 3,
     "metadata": {},
     "output_type": "execute_result"
    }
   ],
   "source": [
    "import omero.gateway.Gateway\n",
    "import omero.gateway.LoginCredentials\n",
    "import omero.log.SimpleLogger\n",
    "\n",
    "// Method to connect to OMERO\n",
    "def connect_to_omero() {\n",
    "    \"Connect to OMERO\"\n",
    "\n",
    "    credentials = new LoginCredentials()\n",
    "    credentials.getServer().setHostname(g['Server'])\n",
    "    credentials.getUser().setUsername(g['UserName'].trim())\n",
    "    credentials.getUser().setPassword(g['Password'].trim())\n",
    "    simpleLogger = new SimpleLogger()\n",
    "    gateway = new Gateway(simpleLogger)\n",
    "    gateway.connect(credentials)\n",
    "    return gateway\n",
    "\n",
    "}\n",
    "\n",
    "// Connect to OMERO\n",
    "println \"connecting...\"\n",
    "gateway = connect_to_omero()\n",
    "println \"connected...\"\n"
   ]
  },
  {
   "cell_type": "markdown",
   "metadata": {},
   "source": [
    "## Select the Image. Do not re-run this cell."
   ]
  },
  {
   "cell_type": "code",
   "execution_count": 4,
   "metadata": {
    "scrolled": false
   },
   "outputs": [
    {
     "data": {
      "application/vnd.jupyter.widget-view+json": {
       "model_id": "c10083a0-7b51-4078-be6c-eaf0cf8c6d44",
       "version_major": 2,
       "version_minor": 0
      },
      "method": "display_data"
     },
     "metadata": {},
     "output_type": "display_data"
    }
   ],
   "source": [
    "ga = new EasyForm(\"Select the Image to analyze. Do not re-run this cell.\")\n",
    "ga.addTextField(\"ImageID\")\n",
    "ga"
   ]
  },
  {
   "cell_type": "markdown",
   "metadata": {},
   "source": [
    "## Collect parameters "
   ]
  },
  {
   "cell_type": "code",
   "execution_count": 5,
   "metadata": {},
   "outputs": [
    {
     "data": {
      "text/plain": [
       "-1"
      ]
     },
     "execution_count": 5,
     "metadata": {},
     "output_type": "execute_result"
    }
   ],
   "source": [
    "//Connection information\n",
    "HOST = g['Server']\n",
    "USERNAME = g['UserName'].trim()\n",
    "PASSWORD = g['Password'].trim()\n",
    "\n",
    "//Image to analyze\n",
    "image_id = ga['ImageID'].toLong()\n",
    "group_id = \"-1\""
   ]
  },
  {
   "cell_type": "markdown",
   "metadata": {},
   "source": [
    "## Retrieve the macro(s) linked to the image.\n",
    "\n",
    "Macros have been linked to the dataset as File Annotations."
   ]
  },
  {
   "cell_type": "code",
   "execution_count": 6,
   "metadata": {
    "scrolled": true
   },
   "outputs": [
    {
     "data": {
      "text/plain": [
       "null"
      ]
     },
     "execution_count": 6,
     "metadata": {},
     "output_type": "execute_result"
    }
   ],
   "source": [
    "import java.util.ArrayList\n",
    "import java.util.HashMap\n",
    "\n",
    "import omero.gateway.SecurityContext\n",
    "import omero.gateway.facility.BrowseFacility\n",
    "import omero.gateway.facility.MetadataFacility\n",
    "import omero.gateway.model.FileAnnotationData\n",
    "import omero.gateway.model.ImageData\n",
    "import omero.model.OriginalFile\n",
    "\n",
    "// Retrieve the macros linked to the dataset\n",
    "user = gateway.getLoggedInUser()\n",
    "ctx = new SecurityContext(user.getGroupId())\n",
    "svc = gateway.getFacility(MetadataFacility)\n",
    "//Find the dataset\n",
    "browse = gateway.getFacility(BrowseFacility)\n",
    "object = browse.findIObject(ctx, \"omero.model.Image\", image_id)\n",
    "image = new ImageData(object);\n",
    "users = new ArrayList(1)\n",
    "//users.add(new Long(user.getId()))\n",
    "types = new ArrayList(1)\n",
    "types.add(FileAnnotationData.class)\n",
    "annotations = svc.getAnnotations(ctx, image, types, users)\n",
    "macros = new HashMap()\n",
    "macroNames = new HashMap()\n",
    "querySvc = gateway.getQueryService(ctx)\n",
    "annotations.each { fa ->\n",
    "    of = (OriginalFile) querySvc.get(\"omero.model.OriginalFile\", fa.getFileID());\n",
    "    name = of.getName().getValue()\n",
    "    // load the first annotation with ijm\n",
    "    if (name.endsWith(\".ijm\")) {\n",
    "        macros.put(fa.getFileID(), of)\n",
    "        macroNames.put(name, fa.getFileID())\n",
    "    }\n",
    "}\n",
    "\n",
    "if (macros.size) {\n",
    "    println \"No macros linked to the image\"\n",
    "    return\n",
    "}"
   ]
  },
  {
   "cell_type": "markdown",
   "metadata": {},
   "source": [
    "## Select the macro to use"
   ]
  },
  {
   "cell_type": "code",
   "execution_count": 7,
   "metadata": {},
   "outputs": [
    {
     "data": {
      "application/vnd.jupyter.widget-view+json": {
       "model_id": "c7f6f725-8eab-467f-a4da-752c403176cf",
       "version_major": 2,
       "version_minor": 0
      },
      "method": "display_data"
     },
     "metadata": {},
     "output_type": "display_data"
    }
   ],
   "source": [
    "gm = new EasyForm(\"Select the macro to use. Do not re-run this cell.\")\n",
    "gm.addComboBox(\"Name\", new ArrayList(macroNames.keySet()))\n",
    "gm"
   ]
  },
  {
   "cell_type": "markdown",
   "metadata": {},
   "source": [
    "## Load the selected macro"
   ]
  },
  {
   "cell_type": "code",
   "execution_count": 8,
   "metadata": {},
   "outputs": [
    {
     "name": "stdout",
     "output_type": "stream",
     "text": [
      "loading macro...\n"
     ]
    },
    {
     "data": {
      "text/plain": [
       "/tmp/Centrin_PCNT_Cep215_20110506_Fri-1545_0_SIR_PRJ.dv_results.csv3663083204645933358.ijm"
      ]
     },
     "execution_count": 8,
     "metadata": {},
     "output_type": "execute_result"
    }
   ],
   "source": [
    "import java.io.File\n",
    "import java.io.FileOutputStream\n",
    "\n",
    "import omero.gateway.SecurityContext\n",
    "\n",
    "//size of the chunk to load\n",
    "INC = 262144\n",
    "\n",
    "// Load the macro file linked to the dataset\n",
    "def load_macro_file(gateway, macro_name) {\n",
    "    \n",
    "    \n",
    "    fileID = macroNames.get(macro_name)\n",
    "    of = macros.get(fileID)\n",
    "\n",
    "    user = gateway.getLoggedInUser()\n",
    "    ctx = new SecurityContext(user.getGroupId())\n",
    "    store = gateway.getRawFileService(ctx);\n",
    "    file = File.createTempFile(name, \".ijm\")\n",
    "    stream = new FileOutputStream(file)\n",
    "    store.setFileId(fileID);\n",
    "    offset = 0;\n",
    "    size = of.getSize().getValue();\n",
    "    try {\n",
    "        for (offset = 0; (offset+INC) < size;) {\n",
    "            stream.write(store.read(offset, INC));\n",
    "            offset += INC;\n",
    "        }\n",
    "    } finally {\n",
    "        stream.write(store.read(offset, (int) (size-offset)));\n",
    "        stream.close();\n",
    "    }\n",
    "    return file\n",
    "}\n",
    "\n",
    "println \"loading macro...\"\n",
    "//Name of the macro\n",
    "macro_name = gm['Name']\n",
    "macro_file = load_macro_file(gateway, macro_name)"
   ]
  },
  {
   "cell_type": "markdown",
   "metadata": {},
   "source": [
    "## Open the image using Bio-Formats and run the macro "
   ]
  },
  {
   "cell_type": "code",
   "execution_count": 15,
   "metadata": {},
   "outputs": [
    {
     "name": "stdout",
     "output_type": "stream",
     "text": [
      "Opening image...\n",
      "Image opened\n",
      "Running macro fiji-macro-segment-2.ijm on image: 9539\n",
      " \tLabel\tArea\tMean\tStdDev\tMode\tMin\tMax\tX\tY\tXM\tYM\tPerim.\tBX\tBY\tWidth\tHeight\tFeret\tCh\tFeretX\tFeretY\tFeretAngle\tMinFeret\n",
      "1\tCentrin_PCNT_Cep215_20110506_Fri-1545_0_SIR_PRJ.dv:c:1/3 - Centrin_PCNT_Cep215_20110506_Fri-1545_0_SIR_PRJ.dv\t0.154\t144.031\t43.207\t188\t22\t188\t5.038\t4.987\t5.034\t4.990\t2.047\t4.792\t4.594\t0.396\t0.713\t0.728\t1\t123\t133\t67.620\t0.393\n",
      "2\tCentrin_PCNT_Cep215_20110506_Fri-1545_0_SIR_PRJ.dv:c:1/3 - Centrin_PCNT_Cep215_20110506_Fri-1545_0_SIR_PRJ.dv\t0.016\t175.300\t8.070\t176\t162\t186\t5.287\t5.029\t5.287\t5.029\t0.415\t5.227\t4.950\t0.119\t0.158\t0.198\t1\t132\t125\t126.870\t0.119\n",
      "3\tCentrin_PCNT_Cep215_20110506_Fri-1545_0_SIR_PRJ.dv:c:1/3 - Centrin_PCNT_Cep215_20110506_Fri-1545_0_SIR_PRJ.dv\t0.050\t153.188\t29.139\t158\t95\t189\t2.671\t5.157\t2.667\t5.159\t1.101\t2.455\t4.990\t0.317\t0.356\t0.396\t1\t62\t129\t143.130\t0.275\n",
      "4\tCentrin_PCNT_Cep215_20110506_Fri-1545_0_SIR_PRJ.dv:c:1/3 - Centrin_PCNT_Cep215_20110506_Fri-1545_0_SIR_PRJ.dv\t0.121\t126.701\t53.092\t154\t0\t189\t3.008\t5.315\t2.999\t5.323\t1.576\t2.851\t5.069\t0.317\t0.515\t0.585\t1\t73\t128\t118.301\t0.317\n",
      "5\tCentrin_PCNT_Cep215_20110506_Fri-1545_0_SIR_PRJ.dv:c:1/3 - Centrin_PCNT_Cep215_20110506_Fri-1545_0_SIR_PRJ.dv\t0.036\t164.870\t18.575\t151\t128\t189\t3.286\t5.240\t3.288\t5.241\t0.844\t3.208\t5.069\t0.158\t0.356\t0.390\t1\t81\t128\t113.962\t0.158\n",
      "6\tCentrin_PCNT_Cep215_20110506_Fri-1545_0_SIR_PRJ.dv:c:2/3 - Centrin_PCNT_Cep215_20110506_Fri-1545_0_SIR_PRJ.dv\t0.240\t121.431\t47.835\t115\t0\t189\t5.343\t5.299\t5.352\t5.311\t3.059\t5.069\t4.950\t0.515\t0.752\t0.816\t2\t130\t125\t112.834\t0.515\n",
      "7\tCentrin_PCNT_Cep215_20110506_Fri-1545_0_SIR_PRJ.dv:c:2/3 - Centrin_PCNT_Cep215_20110506_Fri-1545_0_SIR_PRJ.dv\t0.176\t142.321\t37.955\t167\t15\t189\t3.125\t5.332\t3.135\t5.322\t2.285\t2.851\t4.990\t0.554\t0.634\t0.708\t2\t74\t142\t63.435\t0.514\n",
      "8\tCentrin_PCNT_Cep215_20110506_Fri-1545_0_SIR_PRJ.dv:c:2/3 - Centrin_PCNT_Cep215_20110506_Fri-1545_0_SIR_PRJ.dv\t0.017\t180.364\t6.932\t171\t171\t189\t9.869\t5.870\t9.870\t5.870\t0.471\t9.781\t5.782\t0.158\t0.158\t0.198\t2\t248\t146\t126.870\t0.158\n",
      "9\tCentrin_PCNT_Cep215_20110506_Fri-1545_0_SIR_PRJ.dv:c:3/3 - Centrin_PCNT_Cep215_20110506_Fri-1545_0_SIR_PRJ.dv\t0.031\t137.600\t40.520\t184\t57\t189\t6.451\t2.780\t6.455\t2.782\t0.630\t6.376\t2.653\t0.158\t0.238\t0.286\t3\t161\t67\t123.690\t0.158\n",
      "10\tCentrin_PCNT_Cep215_20110506_Fri-1545_0_SIR_PRJ.dv:c:3/3 - Centrin_PCNT_Cep215_20110506_Fri-1545_0_SIR_PRJ.dv\t0.019\t174.250\t12.513\t186\t153\t189\t4.118\t2.845\t4.118\t2.845\t0.471\t4.039\t2.772\t0.158\t0.158\t0.198\t3\t102\t73\t36.870\t0.158\n",
      "11\tCentrin_PCNT_Cep215_20110506_Fri-1545_0_SIR_PRJ.dv:c:3/3 - Centrin_PCNT_Cep215_20110506_Fri-1545_0_SIR_PRJ.dv\t0.019\t167.917\t15.180\t179\t144\t187\t5.395\t4.003\t5.396\t4.003\t0.471\t5.306\t3.920\t0.158\t0.158\t0.198\t3\t135\t99\t126.870\t0.158\n",
      "12\tCentrin_PCNT_Cep215_20110506_Fri-1545_0_SIR_PRJ.dv:c:3/3 - Centrin_PCNT_Cep215_20110506_Fri-1545_0_SIR_PRJ.dv\t0.025\t168.500\t14.184\t153\t148\t188\t3.740\t4.292\t3.741\t4.291\t0.653\t3.683\t4.158\t0.119\t0.277\t0.280\t3\t94\t105\t98.130\t0.119\n",
      "13\tCentrin_PCNT_Cep215_20110506_Fri-1545_0_SIR_PRJ.dv:c:3/3 - Centrin_PCNT_Cep215_20110506_Fri-1545_0_SIR_PRJ.dv\t0.017\t167.091\t13.960\t142\t142\t187\t2.115\t4.347\t2.114\t4.345\t0.494\t2.059\t4.237\t0.119\t0.198\t0.231\t3\t52\t107\t120.964\t0.119\n",
      "14\tCentrin_PCNT_Cep215_20110506_Fri-1545_0_SIR_PRJ.dv:c:3/3 - Centrin_PCNT_Cep215_20110506_Fri-1545_0_SIR_PRJ.dv\t0.315\t143.085\t44.116\t183\t0\t189\t2.904\t4.838\t2.923\t4.830\t3.745\t2.534\t4.435\t0.832\t0.792\t0.945\t3\t68\t132\t56.976\t0.692\n",
      "15\tCentrin_PCNT_Cep215_20110506_Fri-1545_0_SIR_PRJ.dv:c:3/3 - Centrin_PCNT_Cep215_20110506_Fri-1545_0_SIR_PRJ.dv\t0.198\t144.730\t36.152\t189\t49\t189\t5.155\t4.954\t5.151\t4.941\t2.630\t4.871\t4.514\t0.475\t0.950\t0.958\t3\t131\t138\t82.875\t0.453\n",
      "16\tCentrin_PCNT_Cep215_20110506_Fri-1545_0_SIR_PRJ.dv:c:3/3 - Centrin_PCNT_Cep215_20110506_Fri-1545_0_SIR_PRJ.dv\t0.049\t169.645\t11.531\t156\t147\t187\t4.887\t4.965\t4.886\t4.965\t0.877\t4.752\t4.831\t0.238\t0.317\t0.396\t3\t120\t122\t126.870\t0.210\n",
      "17\tCentrin_PCNT_Cep215_20110506_Fri-1545_0_SIR_PRJ.dv:c:3/3 - Centrin_PCNT_Cep215_20110506_Fri-1545_0_SIR_PRJ.dv\t0.022\t164.500\t13.642\t160\t140\t183\t2.874\t5.451\t2.874\t5.450\t0.518\t2.812\t5.346\t0.119\t0.198\t0.231\t3\t71\t140\t59.036\t0.119\n",
      "Analysis completed\n"
     ]
    },
    {
     "data": {
      "text/plain": [
       "null"
      ]
     },
     "execution_count": 15,
     "metadata": {},
     "output_type": "execute_result"
    }
   ],
   "source": [
    "import ij.IJ\n",
    "import org.openmicroscopy.shoola.env.data.model.FileObject\n",
    "import ij.plugin.frame.RoiManager\n",
    "\n",
    "\n",
    "// Open the image using Bio-Formats\n",
    "def open_image_plus(host, username, password, group_id, image_id) {\n",
    "    \"Open the image using the Bio-Formats Importer\"\n",
    "\n",
    "    StringBuilder options = new StringBuilder()\n",
    "    options.append(\"location=[OMERO] open=[omero:server=\")\n",
    "    options.append(host)\n",
    "    options.append(\"\\nuser=\")\n",
    "    options.append(username)\n",
    "    options.append(\"\\nport=\")\n",
    "    options.append(443)\n",
    "    options.append(\"\\npass=\")\n",
    "    options.append(password)\n",
    "    options.append(\"\\ngroupID=\")\n",
    "    options.append(group_id)\n",
    "    options.append(\"\\niid=\")\n",
    "    options.append(image_id)\n",
    "    options.append(\"] \")\n",
    "    options.append(\"windowless=true view=Hyperstack \")\n",
    "    IJ.runPlugIn(\"loci.plugins.LociImporter\", options.toString())\n",
    "}\n",
    "\n",
    "println \"Opening image...\"\n",
    "imp = open_image_plus(HOST, USERNAME, PASSWORD, String.valueOf(group_id), String.valueOf(image_id))\n",
    "println \"Image opened\"\n",
    "imp = IJ.getImage()\n",
    "//Use to identify if it is a new image etc.\n",
    "file_object = new FileObject(imp)\n",
    "println \"Running macro \" + macro_name + \" on image: \"+image_id\n",
    "RoiManager.getRoiManager()\n",
    "IJ.runMacroFile(macro_file.getAbsolutePath())\n",
    "println \"Analysis completed\""
   ]
  },
  {
   "cell_type": "markdown",
   "metadata": {},
   "source": [
    "## Select the output to save back after running the macro "
   ]
  },
  {
   "cell_type": "markdown",
   "metadata": {},
   "source": [
    "Depending on the macros run, new images, ROIs or results will be created. Select the output you wish to save back to OMERO."
   ]
  },
  {
   "cell_type": "code",
   "execution_count": 16,
   "metadata": {
    "scrolled": true
   },
   "outputs": [
    {
     "data": {
      "application/vnd.jupyter.widget-view+json": {
       "model_id": "e564ec5f-abf1-4759-9486-ceee2d75ef35",
       "version_major": 2,
       "version_minor": 0
      },
      "method": "display_data"
     },
     "metadata": {},
     "output_type": "display_data"
    }
   ],
   "source": [
    "gr = new EasyForm(\"Select the output to save. Do not re-run this cell.\")\n",
    "options = [\"Image\", \"ROIs\", \"Results\"]\n",
    "gr.addCheckBox(\"Image\")\n",
    "gr.addCheckBox(\"ROIs\")\n",
    "gr.addCheckBox(\"Results\")\n",
    "gr"
   ]
  },
  {
   "cell_type": "markdown",
   "metadata": {},
   "source": [
    "## Collect the parameters"
   ]
  },
  {
   "cell_type": "code",
   "execution_count": 17,
   "metadata": {},
   "outputs": [
    {
     "data": {
      "text/plain": [
       "true"
      ]
     },
     "execution_count": 17,
     "metadata": {},
     "output_type": "execute_result"
    }
   ],
   "source": [
    "save_image = gr['Image']\n",
    "save_rois = gr['ROIs']\n",
    "save_results = gr['Results']"
   ]
  },
  {
   "cell_type": "markdown",
   "metadata": {},
   "source": [
    "## Save the ROIs back to the server\n",
    "\n",
    "Save the rois if any created during the analysis"
   ]
  },
  {
   "cell_type": "code",
   "execution_count": 19,
   "metadata": {},
   "outputs": [
    {
     "name": "stdout",
     "output_type": "stream",
     "text": [
      "saving ROIs\n"
     ]
    },
    {
     "data": {
      "text/plain": [
       "[omero.gateway.model.ROIData (id=1293870), omero.gateway.model.ROIData (id=1293871), omero.gateway.model.ROIData (id=1293872), omero.gateway.model.ROIData (id=1293873), omero.gateway.model.ROIData (id=1293874), omero.gateway.model.ROIData (id=1293875), omero.gateway.model.ROIData (id=1293876), omero.gateway.model.ROIData (id=1293877), omero.gateway.model.ROIData (id=1293878), omero.gateway.model.ROIData (id=1293879), omero.gateway.model.ROIData (id=1293880), omero.gateway.model.ROIData (id=1293881), omero.gateway.model.ROIData (id=1293882), omero.gateway.model.ROIData (id=1293883), omero.gateway.model.ROIData (id=1293884), omero.gateway.model.ROIData (id=1293885), omero.gateway.model.ROIData (id=1293886)]"
      ]
     },
     "execution_count": 19,
     "metadata": {},
     "output_type": "execute_result"
    }
   ],
   "source": [
    "import org.openmicroscopy.shoola.util.roi.io.ROIReader\n",
    "import omero.gateway.facility.ROIFacility\n",
    "\n",
    "exp = gateway.getLoggedInUser()\n",
    "\n",
    "reader = new ROIReader()\n",
    "roi_list = reader.readImageJROIFromSources(image_id, imp)\n",
    "if (roi_list != null && roi_list.size() > 0 && save_rois) {\n",
    "    println \"saving ROIs\"\n",
    "    roi_facility = gateway.getFacility(ROIFacility)\n",
    "    result = roi_facility.saveROIs(ctx, image_id, exp.getId(), roi_list)\n",
    "}"
   ]
  },
  {
   "cell_type": "markdown",
   "metadata": {},
   "source": [
    "## Save the measurements associated to the ROI back to the server \n",
    "\n",
    "First we read the measurement using the reader defined about\n",
    "and then attach the CSV file to the image as a File Annotation."
   ]
  },
  {
   "cell_type": "code",
   "execution_count": 20,
   "metadata": {},
   "outputs": [
    {
     "name": "stdout",
     "output_type": "stream",
     "text": [
      "saving Results as CSV\n"
     ]
    },
    {
     "data": {
      "text/plain": [
       "true"
      ]
     },
     "execution_count": 20,
     "metadata": {},
     "output_type": "execute_result"
    }
   ],
   "source": [
    "import java.io.File\n",
    "import java.io.FileInputStream\n",
    "\n",
    "import java.nio.ByteBuffer\n",
    "import java.nio.file.Files\n",
    "\n",
    "import omero.gateway.facility.DataManagerFacility\n",
    "import omero.gateway.model.FileAnnotationData\n",
    "import omero.gateway.model.ImageData\n",
    "\n",
    "import omero.model.ChecksumAlgorithmI\n",
    "import omero.model.FileAnnotationI\n",
    "import omero.model.ImageI\n",
    "import omero.model.OriginalFileI\n",
    "import omero.model.enums.ChecksumAlgorithmSHA1160\n",
    "\n",
    "import static omero.rtypes.rlong\n",
    "import static omero.rtypes.rstring\n",
    "\n",
    "// Upload the CSV file to OMERO\n",
    "def upload_csv_to_omero(ctx, file, image_id) {\n",
    "    \"Upload the CSV file and attach it to the specified project\"\n",
    "    svc = gateway.getFacility(DataManagerFacility)\n",
    "\n",
    "    file_size = file.length()\n",
    "    original_file = new OriginalFileI()\n",
    "    original_file.setName(rstring(file.getName()))\n",
    "    original_file.setPath(rstring(file.getAbsolutePath()))\n",
    "    original_file.setSize(rlong(file_size))\n",
    "    checksum_algorithm = new ChecksumAlgorithmI()\n",
    "    checksum_algorithm.setValue(rstring(ChecksumAlgorithmSHA1160.value))\n",
    "    original_file.setHasher(checksum_algorithm)\n",
    "    original_file.setMimetype(rstring(\"text/csv\"))\n",
    "    original_file = svc.saveAndReturnObject(ctx, original_file)\n",
    "    store = gateway.getRawFileService(ctx)\n",
    "\n",
    "    // Open file and read stream\n",
    "    INC = 262144\n",
    "    pos = 0\n",
    "    buf = new byte[INC]\n",
    "    ByteBuffer bbuf = null\n",
    "    stream = null\n",
    "    try {\n",
    "        store.setFileId(original_file.getId().getValue())\n",
    "        stream = new FileInputStream(file)\n",
    "        while ((rlen = stream.read(buf)) > 0) {\n",
    "            store.write(buf, pos, rlen)\n",
    "            pos += rlen\n",
    "            bbuf = ByteBuffer.wrap(buf)\n",
    "            bbuf.limit(rlen)\n",
    "        }\n",
    "        original_file = store.save()\n",
    "    } finally {\n",
    "        if (stream != null) {\n",
    "            stream.close()\n",
    "        }\n",
    "        store.close()\n",
    "    }\n",
    "    // create the file annotation\n",
    "    namespace = \"training.demo\"\n",
    "    fa = new FileAnnotationI()\n",
    "    fa.setFile(original_file)\n",
    "    fa.setNs(rstring(namespace))\n",
    "\n",
    "    data_object = new ImageData(new ImageI(image_id, false)) \n",
    "    svc.attachAnnotation(ctx, new FileAnnotationData(fa), data_object)\n",
    "}\n",
    "\n",
    "\n",
    "tmp_dir = Files.createTempDirectory(\"Fiji_csv\")\n",
    "\n",
    "path = tmp_dir.resolve(image_id+\"_results.csv\")\n",
    "file_path = Files.createFile(path)\n",
    "file = new File(file_path.toString())\n",
    "//Save the results\n",
    "value = reader.readResults(file)\n",
    "if (value && save_results) { //some results to upload\n",
    "    println \"saving Results as CSV\"\n",
    "    upload_csv_to_omero(ctx, file, image_id)\n",
    "}\n",
    "file.delete()"
   ]
  },
  {
   "cell_type": "markdown",
   "metadata": {},
   "source": [
    "## Import the generated image\n",
    "\n",
    "If an image is created by the macro and the option is selected, the image will be imported in a new dataset named \"Analysis from Fiji\"."
   ]
  },
  {
   "cell_type": "code",
   "execution_count": 22,
   "metadata": {},
   "outputs": [
    {
     "name": "stdout",
     "output_type": "stream",
     "text": [
      "importing...\n"
     ]
    },
    {
     "name": "stderr",
     "output_type": "stream",
     "text": [
      "May 25, 2020 11:29:47 AM java.util.prefs.FileSystemPreferences$1 run\n",
      "INFO: Created user preferences directory.\n"
     ]
    },
    {
     "name": "stdout",
     "output_type": "stream",
     "text": [
      "Image:57242\n"
     ]
    },
    {
     "name": "stderr",
     "output_type": "stream",
     "text": [
      "Other imported objects:\n",
      "Fileset:39956\n"
     ]
    },
    {
     "name": "stdout",
     "output_type": "stream",
     "text": [
      "imported\n",
      "processing done\n"
     ]
    },
    {
     "data": {
      "text/plain": [
       "null"
      ]
     },
     "execution_count": 22,
     "metadata": {},
     "output_type": "execute_result"
    }
   ],
   "source": [
    "import java.lang.reflect.Array\n",
    "\n",
    "import omero.gateway.SecurityContext\n",
    "import omero.gateway.facility.BrowseFacility\n",
    "import omero.gateway.facility.DataManagerFacility\n",
    "import omero.gateway.model.DatasetData\n",
    "\n",
    "import ome.formats.importer.ImportConfig\n",
    "import ome.formats.importer.OMEROWrapper\n",
    "import ome.formats.importer.ImportLibrary\n",
    "import ome.formats.importer.ImportCandidates\n",
    "import ome.formats.importer.cli.ErrorHandler\n",
    "import ome.formats.importer.cli.LoggingImportMonitor\n",
    "\n",
    "import loci.formats.in.DefaultMetadataOptions\n",
    "import loci.formats.in.MetadataLevel\n",
    "\n",
    "\n",
    "//Upload the generated image\n",
    "def upload_image(paths, gateway, id) {\n",
    "    \"Upload an image to OMERO\"\n",
    "\n",
    "    user = gateway.getLoggedInUser()\n",
    "    sessionKey = gateway.getSessionId(user)\n",
    "\n",
    "    config = new ImportConfig()\n",
    "    config.debug.set('false')\n",
    "    config.hostname.set(HOST)\n",
    "    config.port.set(443)\n",
    "    config.sessionKey.set(sessionKey)\n",
    "    dataset = find_dataset(gateway, id)\n",
    "\n",
    "    store = config.createStore()\n",
    "    reader = new OMEROWrapper(config)\n",
    "\n",
    "    library = new ImportLibrary(store, reader)\n",
    "    error_handler = new ErrorHandler(config)\n",
    "\n",
    "    library.addObserver(new LoggingImportMonitor())\n",
    "    candidates = new ImportCandidates(reader, paths, error_handler)\n",
    "    containers = candidates.getContainers()\n",
    "    containers.each() { c ->\n",
    "        c.setTarget(dataset)\n",
    "    }\n",
    "    reader.setMetadataOptions(new DefaultMetadataOptions(MetadataLevel.ALL))\n",
    "    return library.importCandidates(config, candidates)\n",
    "}\n",
    "\n",
    "// Find the dataset matching the specified ID\n",
    "def find_dataset(gateway, dataset_id) {\n",
    "    \"Load the Dataset\"\n",
    "    browse = gateway.getFacility(BrowseFacility)\n",
    "    user = gateway.getLoggedInUser()\n",
    "    ctx = new SecurityContext(user.getGroupId())\n",
    "    return browse.findIObject(ctx, \"omero.model.Dataset\", dataset_id)\n",
    "}\n",
    "\n",
    "\n",
    "// Check if the macro created a new image\n",
    "if (file_object.isNewImage() && save_image) {\n",
    "    // Create a Dataset\n",
    "    d = new DatasetData()\n",
    "    d.setName(\"Analysis from Fiji\")\n",
    "    dm = gateway.getFacility(DataManagerFacility)\n",
    "    user = gateway.getLoggedInUser()\n",
    "    ctx = new SecurityContext(user.getGroupId())\n",
    "    d = dm.createDataset(ctx, d, null)\n",
    "    \n",
    "    file_to_import = file_object.getFileToImport()\n",
    "    println \"importing...\"\n",
    "    str2d = new String[1]\n",
    "    str2d[0] = file_to_import.getAbsolutePath()\n",
    "    success = upload_image(str2d, gateway, d.getId())\n",
    "    println \"imported\"\n",
    "}\n",
    "\n",
    "// delete the local copy of the temporary file and directory\n",
    "dir = new File(tmp_dir.toString())\n",
    "entries = dir.listFiles()\n",
    "for (i = 0; i < entries.length; i++) {\n",
    "    entries[i].delete()\n",
    "}"
   ]
  },
  {
   "cell_type": "markdown",
   "metadata": {},
   "source": [
    "## Close the connection and delete local files and directory  "
   ]
  },
  {
   "cell_type": "code",
   "execution_count": 24,
   "metadata": {},
   "outputs": [
    {
     "name": "stdout",
     "output_type": "stream",
     "text": [
      "processing done\n"
     ]
    },
    {
     "data": {
      "text/plain": [
       "null"
      ]
     },
     "execution_count": 24,
     "metadata": {},
     "output_type": "execute_result"
    }
   ],
   "source": [
    "// delete the local copy of the temporary file and directory\n",
    "dir.delete()\n",
    "\n",
    "// Close the connection\n",
    "gateway.disconnect()\n",
    "//Delete macrofile\n",
    "macro_file.delete()\n",
    "println \"processing done\""
   ]
  },
  {
   "cell_type": "code",
   "execution_count": null,
   "metadata": {},
   "outputs": [],
   "source": []
  }
 ],
 "metadata": {
  "kernelspec": {
   "display_name": "Groovy",
   "language": "groovy",
   "name": "groovy"
  },
  "language_info": {
   "codemirror_mode": "groovy",
   "file_extension": ".groovy",
   "mimetype": "",
   "name": "Groovy",
   "nbconverter_exporter": "",
   "version": "2.5.6"
  },
  "toc": {
   "base_numbering": 1,
   "nav_menu": {},
   "number_sections": false,
   "sideBar": false,
   "skip_h1_title": false,
   "title_cell": "Table of Contents",
   "title_sidebar": "Contents",
   "toc_cell": false,
   "toc_position": {},
   "toc_section_display": false,
   "toc_window_display": false
  }
 },
 "nbformat": 4,
 "nbformat_minor": 2
}
